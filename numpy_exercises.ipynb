{
 "cells": [
  {
   "cell_type": "code",
   "execution_count": 26,
   "id": "5fcf5efb-6f81-4baf-b82d-cf61b4013022",
   "metadata": {
    "tags": []
   },
   "outputs": [
    {
     "data": {
      "text/plain": [
       "[0.12403473458920847,\n",
       " 0.8682431421244593,\n",
       " 1.116312611302876,\n",
       " 2.4806946917841692,\n",
       " -0.6201736729460423,\n",
       " -0.49613893835683387,\n",
       " -0.3721042037676254,\n",
       " -0.3721042037676254,\n",
       " -0.3721042037676254,\n",
       " -1.116312611302876,\n",
       " 0.0,\n",
       " -1.2403473458920846]"
      ]
     },
     "execution_count": 26,
     "metadata": {},
     "output_type": "execute_result"
    }
   ],
   "source": [
    "# Import Numpy as np\n",
    "import numpy as np\n",
    "\n",
    "# working array\n",
    "a = np.array([4, 10, 12, 23, -2, -1, 0, 0, 0, -6, 3, -7])\n",
    "\n",
    "### Questions\n",
    "# 1. How many negative numbers are there? ANSWER: 4\n",
    "len(a[a < 0])\n",
    "\n",
    "# 2. How many positive numbers are there? ANSWER: 5\n",
    "len(a[a > 0])\n",
    "\n",
    "# 3. How many even positive numbers are there? ANSWER: 3\n",
    "len(a[(a > 0) & (a % 2 == 0)])\n",
    "\n",
    "# 4. If you were to add 3 to each data point, how many positive numbers would there be? ANSWER: 10\n",
    "b = a + 3\n",
    "len(b[b > 0])\n",
    "\n",
    "# 5. If you squared each number, what would the new mean and standard deviation be? ANSWER: (74.0; 144.02)\n",
    "(a ** 2).mean()\n",
    "(a ** 2).std()\n",
    "\n",
    "# 6. A common statistical operation on a dataset is centering. \n",
    "# This means to adjust the data such that the mean of the data is 0. \n",
    "# This is done by subtracting the mean from each data point. Center the data set. \n",
    "# See this link for more on centering.\n",
    "\n",
    "# 7. Calculate the z-score for each data point. Recall that the z-score is given by:\n",
    "[((num - a.mean()) / a.std()) for num in a]\n",
    "\n",
    "# 8. Copy the setup and exercise directions from More Numpy Practice into your numpy_exercises.py and add your solutions.\n",
    "\n"
   ]
  },
  {
   "cell_type": "markdown",
   "id": "1ad75bd7-81a6-4736-98f1-70b40046d4bb",
   "metadata": {},
   "source": [
    "## Additional Exercises\n",
    "### Setup 1"
   ]
  },
  {
   "cell_type": "code",
   "execution_count": 89,
   "id": "4cf2a586-3662-4262-8856-632e0c0fe7fe",
   "metadata": {
    "tags": []
   },
   "outputs": [],
   "source": [
    "## Setup 1\n",
    "a = [1, 2, 3, 4, 5, 6, 7, 8, 9, 10]\n",
    "my_array = np.array(a)\n",
    "my_array\n",
    "# Use python's built in functionality/operators to determine the following:\n",
    "# Exercise 1 - Make a variable called sum_of_a to hold the sum of all the numbers in above list\n",
    "sum_of_a = my_array.sum()\n",
    "\n",
    "# Exercise 2 - Make a variable named min_of_a to hold the minimum of all the numbers in the above list\n",
    "min_of_a = my_array.min()\n",
    "\n",
    "# Exercise 3 - Make a variable named max_of_a to hold the max number of all the numbers in the above list\n",
    "max_of_a = my_array.max()\n",
    "\n",
    "# Exercise 4 - Make a variable named mean_of_a to hold the average of all the numbers in the above list\n",
    "mean_of_a = my_array.mean()\n",
    "\n",
    "# Exercise 5 - Make a variable named product_of_a to hold the product of multiplying all the numbers in the above list together\n",
    "product_of_a = my_array.prod()\n",
    "\n",
    "# Exercise 6 - Make a variable named squares_of_a. It should hold each number in a squared like [1, 4, 9, 16, 25...]\n",
    "squares_of_a = my_array ** 2\n",
    "\n",
    "# Exercise 7 - Make a variable named odds_in_a. It should hold only the odd numbers\n",
    "odds_in_a = my_array[my_array % 2 == 1]\n",
    "\n",
    "# Exercise 8 - Make a variable named evens_in_a. It should hold only the evens.\n",
    "evens_in_a = my_array[my_array % 2 == 0]\n"
   ]
  },
  {
   "cell_type": "markdown",
   "id": "ac26b2b2-2c0d-473f-9ea9-bc700959e825",
   "metadata": {},
   "source": [
    "### Setup 2"
   ]
  },
  {
   "cell_type": "code",
   "execution_count": 48,
   "id": "da80ae5b-b756-43af-9594-3b4c920c0bd3",
   "metadata": {
    "tags": []
   },
   "outputs": [
    {
     "name": "stdout",
     "output_type": "stream",
     "text": [
      "(2, 3)\n"
     ]
    },
    {
     "data": {
      "text/plain": [
       "array([[3],\n",
       "       [4],\n",
       "       [5],\n",
       "       [6],\n",
       "       [7],\n",
       "       [8]])"
      ]
     },
     "execution_count": 48,
     "metadata": {},
     "output_type": "execute_result"
    }
   ],
   "source": [
    "## What about life in two dimensions? A list of lists is matrix, a table, a spreadsheet, a chessboard...\n",
    "## Setup 2: Consider what it would take to find the sum, min, max, average, sum, product, and list of squares for this list of two lists.\n",
    "b = [\n",
    "    [3, 4, 5],\n",
    "    [6, 7, 8]\n",
    "]\n",
    "b = np.array(b)\n",
    "\n",
    "# Exercise 1 - refactor the following to use numpy. Use sum_of_b as the variable. **Hint, you'll first need to make sure that the \"b\" variable is a numpy array**\n",
    "sum_of_b = 0\n",
    "for row in b:\n",
    "    sum_of_b += sum(row)\n",
    "\n",
    "sum_of_b = b.sum()\n",
    "    \n",
    "# Exercise 2 - refactor the following to use numpy. \n",
    "min_of_b = min(b[0]) if min(b[0]) <= min(b[1]) else min(b[1])  \n",
    "\n",
    "min_of_b = b.min()\n",
    "\n",
    "# Exercise 3 - refactor the following maximum calculation to find the answer with numpy.\n",
    "max_of_b = max(b[0]) if max(b[0]) >= max(b[1]) else max(b[1])\n",
    "\n",
    "max_of_b = b.max()\n",
    "\n",
    "# Exercise 4 - refactor the following using numpy to find the mean of b\n",
    "mean_of_b = (sum(b[0]) + sum(b[1])) / (len(b[0]) + len(b[1]))\n",
    "\n",
    "mean_of_b = b.mean()\n",
    "\n",
    "# Exercise 5 - refactor the following to use numpy for calculating the product of all numbers multiplied together.\n",
    "product_of_b = 1\n",
    "for row in b:\n",
    "    for number in row:\n",
    "        product_of_b *= number\n",
    "\n",
    "product_of_b = b.prod()\n",
    "        \n",
    "# Exercise 6 - refactor the following to use numpy to find the list of squares \n",
    "squares_of_b = []\n",
    "for row in b:\n",
    "    for number in row:\n",
    "        squares_of_b.append(number**2)\n",
    "\n",
    "squares_of_b = b ** 2\n",
    "        \n",
    "# Exercise 7 - refactor using numpy to determine the odds_in_b\n",
    "odds_in_b = []\n",
    "for row in b:\n",
    "    for number in row:\n",
    "        if(number % 2 != 0):\n",
    "            odds_in_b.append(number)\n",
    "\n",
    "odds_in_b = b[b % 2 == 1]\n",
    "\n",
    "# Exercise 8 - refactor the following to use numpy to filter only the even numbers\n",
    "evens_in_b = []\n",
    "for row in b:\n",
    "    for number in row:\n",
    "        if(number % 2 == 0):\n",
    "            evens_in_b.append(number)\n",
    "\n",
    "evens_in_b = b[b % 2 == 0]\n",
    "\n",
    "# Exercise 9 - print out the shape of the array b.\n",
    "print(b.shape)\n",
    "\n",
    "# Exercise 10 - transpose the array b.\n",
    "b.transpose()\n",
    "\n",
    "# Exercise 11 - reshape the array b to be a single list of 6 numbers. (1 x 6)\n",
    "np.reshape(b, (1, 6))\n",
    "\n",
    "# Exercise 12 - reshape the array b to be a list of 6 lists, each containing only 1 number (6 x 1)\n",
    "np.reshape(b, (6, 1))"
   ]
  },
  {
   "cell_type": "markdown",
   "id": "262e0b0e-0a9e-42a5-962b-8560a664eefc",
   "metadata": {},
   "source": [
    "### Setup 3"
   ]
  },
  {
   "cell_type": "code",
   "execution_count": 17,
   "id": "1fa3b42f-2251-4585-85e3-80e73f3f5cca",
   "metadata": {
    "tags": []
   },
   "outputs": [
    {
     "name": "stdout",
     "output_type": "stream",
     "text": [
      "(3, 3)\n",
      "[[1 4 7]\n",
      " [2 5 8]\n",
      " [3 6 9]]\n"
     ]
    },
    {
     "data": {
      "text/plain": [
       "131681894400"
      ]
     },
     "execution_count": 17,
     "metadata": {},
     "output_type": "execute_result"
    }
   ],
   "source": [
    "## Setup 3\n",
    "c = [\n",
    "    [1, 2, 3],\n",
    "    [4, 5, 6],\n",
    "    [7, 8, 9]\n",
    "]\n",
    "\n",
    "c = np.array(c)\n",
    "\n",
    "# HINT, you'll first need to make sure that the \"c\" variable is a numpy array prior to using numpy array methods.\n",
    "# Exercise 1 - Find the min, max, sum, and product of c. \n",
    "# ANSWER: (1, 9, 45, 362880)\n",
    "c.min()\n",
    "c.max()\n",
    "c.sum()\n",
    "c.prod()\n",
    "\n",
    "# Exercise 2 - Determine the standard deviation of c.\n",
    "# ANSWER: 2.581988897471611\n",
    "c.std()\n",
    "\n",
    "# Exercise 3 - Determine the variance of c.\n",
    "# ANSWER: 6.666666666666667\n",
    "c.var()\n",
    "\n",
    "# Exercise 4 - Print out the shape of the array c\n",
    "print(c.shape)\n",
    "\n",
    "# Exercise 5 - Transpose c and print out transposed result.\n",
    "print(c.transpose())\n",
    "\n",
    "# Exercise 6 - Get the dot product of the array c with c. \n",
    "c.prod()\n",
    "\n",
    "\n",
    "# Exercise 7 - Write the code necessary to sum up the result of c times c transposed. Answer should be 261\n",
    "(c * c.transpose()).sum()\n",
    "\n",
    "# Exercise 8 - Write the code necessary to determine the product of c times c transposed. Answer should be 131681894400.\n",
    "(c * c.transpose()).prod()"
   ]
  },
  {
   "cell_type": "markdown",
   "id": "1cd57fb4-3693-4ae7-8567-dfbad18f0dc3",
   "metadata": {
    "tags": []
   },
   "source": [
    "### Setup 4"
   ]
  },
  {
   "cell_type": "code",
   "execution_count": 58,
   "id": "5f9d59d2-7eec-4e88-8402-54d163251556",
   "metadata": {
    "tags": []
   },
   "outputs": [
    {
     "name": "stdout",
     "output_type": "stream",
     "text": [
      "(3, 6)\n",
      "(6, 3)\n"
     ]
    },
    {
     "data": {
      "text/plain": [
       "array([[ 90,  30],\n",
       "       [ 45,   0],\n",
       "       [120, 180],\n",
       "       [ 45, -90],\n",
       "       [-30, 270],\n",
       "       [ 90,   0],\n",
       "       [ 60,  45],\n",
       "       [-45,  90],\n",
       "       [-45, 180]])"
      ]
     },
     "execution_count": 58,
     "metadata": {},
     "output_type": "execute_result"
    }
   ],
   "source": [
    "## Setup 4\n",
    "d = [\n",
    "    [90, 30, 45, 0, 120, 180],\n",
    "    [45, -90, -30, 270, 90, 0],\n",
    "    [60, 45, -45, 90, -45, 180]\n",
    "]\n",
    "d = np.array(d)\n",
    "# Exercise 1 - Find the sine of all the numbers in d\n",
    "np.sin(d)\n",
    "\n",
    "# Exercise 2 - Find the cosine of all the numbers in d\n",
    "np.cos(d)\n",
    "\n",
    "# Exercise 3 - Find the tangent of all the numbers in d\n",
    "np.tan(d)\n",
    "\n",
    "# Exercise 4 - Find all the negative numbers in d\n",
    "d[d < 0]\n",
    "\n",
    "# Exercise 5 - Find all the positive numbers in d\n",
    "d[d > 0]\n",
    "\n",
    "# Exercise 6 - Return an array of only the unique numbers in d.\n",
    "np.unique(d)\n",
    "\n",
    "# Exercise 7 - Determine how many unique numbers there are in d.\n",
    "len(np.unique(d))\n",
    "\n",
    "# Exercise 8 - Print out the shape of d.\n",
    "print(d.shape)\n",
    "\n",
    "# Exercise 9 - Transpose and then print out the shape of d.\n",
    "print(d.transpose().shape)\n",
    "\n",
    "# Exercise 10 - Reshape d into an array of 9 x 2\n",
    "np.reshape(d, (9, 2), 'C')"
   ]
  }
 ],
 "metadata": {
  "kernelspec": {
   "display_name": "Python 3 (ipykernel)",
   "language": "python",
   "name": "python3"
  },
  "language_info": {
   "codemirror_mode": {
    "name": "ipython",
    "version": 3
   },
   "file_extension": ".py",
   "mimetype": "text/x-python",
   "name": "python",
   "nbconvert_exporter": "python",
   "pygments_lexer": "ipython3",
   "version": "3.11.3"
  }
 },
 "nbformat": 4,
 "nbformat_minor": 5
}
