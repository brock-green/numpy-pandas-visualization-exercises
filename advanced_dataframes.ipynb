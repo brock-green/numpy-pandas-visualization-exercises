{
 "cells": [
  {
   "cell_type": "code",
   "execution_count": 1,
   "id": "dcfaf3a9-f664-4c66-b509-84beca3504d5",
   "metadata": {
    "tags": []
   },
   "outputs": [],
   "source": [
    "import pandas as pd\n",
    "import numpy as np\n",
    "import env\n",
    "\n",
    "my_url = env.get_db_url(\n",
    "    env.user,\n",
    "    env.host,\n",
    "    env.password,\n",
    "    'employees')\n",
    "\n",
    "url = f'mysql+pymysql://{env.user}:{env.password}@{env.host}/employees'\n"
   ]
  },
  {
   "cell_type": "markdown",
   "id": "ac0584c1-76d9-46ca-9fc7-29a5927452be",
   "metadata": {},
   "source": [
    "### 4. Use your function to obtain a connection to the employees database.\n",
    "\n"
   ]
  },
  {
   "cell_type": "code",
   "execution_count": 7,
   "id": "175e0055-185a-494c-b3e5-cbdcc48edf28",
   "metadata": {
    "tags": []
   },
   "outputs": [
    {
     "data": {
      "text/html": [
       "<div>\n",
       "<style scoped>\n",
       "    .dataframe tbody tr th:only-of-type {\n",
       "        vertical-align: middle;\n",
       "    }\n",
       "\n",
       "    .dataframe tbody tr th {\n",
       "        vertical-align: top;\n",
       "    }\n",
       "\n",
       "    .dataframe thead th {\n",
       "        text-align: right;\n",
       "    }\n",
       "</style>\n",
       "<table border=\"1\" class=\"dataframe\">\n",
       "  <thead>\n",
       "    <tr style=\"text-align: right;\">\n",
       "      <th></th>\n",
       "      <th>emp_no</th>\n",
       "      <th>birth_date</th>\n",
       "      <th>first_name</th>\n",
       "      <th>last_name</th>\n",
       "      <th>gender</th>\n",
       "      <th>hire_date</th>\n",
       "    </tr>\n",
       "  </thead>\n",
       "  <tbody>\n",
       "    <tr>\n",
       "      <th>0</th>\n",
       "      <td>10001</td>\n",
       "      <td>1953-09-02</td>\n",
       "      <td>Georgi</td>\n",
       "      <td>Facello</td>\n",
       "      <td>M</td>\n",
       "      <td>1986-06-26</td>\n",
       "    </tr>\n",
       "    <tr>\n",
       "      <th>1</th>\n",
       "      <td>10002</td>\n",
       "      <td>1964-06-02</td>\n",
       "      <td>Bezalel</td>\n",
       "      <td>Simmel</td>\n",
       "      <td>F</td>\n",
       "      <td>1985-11-21</td>\n",
       "    </tr>\n",
       "    <tr>\n",
       "      <th>2</th>\n",
       "      <td>10003</td>\n",
       "      <td>1959-12-03</td>\n",
       "      <td>Parto</td>\n",
       "      <td>Bamford</td>\n",
       "      <td>M</td>\n",
       "      <td>1986-08-28</td>\n",
       "    </tr>\n",
       "    <tr>\n",
       "      <th>3</th>\n",
       "      <td>10004</td>\n",
       "      <td>1954-05-01</td>\n",
       "      <td>Chirstian</td>\n",
       "      <td>Koblick</td>\n",
       "      <td>M</td>\n",
       "      <td>1986-12-01</td>\n",
       "    </tr>\n",
       "    <tr>\n",
       "      <th>4</th>\n",
       "      <td>10005</td>\n",
       "      <td>1955-01-21</td>\n",
       "      <td>Kyoichi</td>\n",
       "      <td>Maliniak</td>\n",
       "      <td>M</td>\n",
       "      <td>1989-09-12</td>\n",
       "    </tr>\n",
       "  </tbody>\n",
       "</table>\n",
       "</div>"
      ],
      "text/plain": [
       "   emp_no  birth_date first_name last_name gender   hire_date\n",
       "0   10001  1953-09-02     Georgi   Facello      M  1986-06-26\n",
       "1   10002  1964-06-02    Bezalel    Simmel      F  1985-11-21\n",
       "2   10003  1959-12-03      Parto   Bamford      M  1986-08-28\n",
       "3   10004  1954-05-01  Chirstian   Koblick      M  1986-12-01\n",
       "4   10005  1955-01-21    Kyoichi  Maliniak      M  1989-09-12"
      ]
     },
     "execution_count": 7,
     "metadata": {},
     "output_type": "execute_result"
    }
   ],
   "source": [
    "# pd.read_sql('literal sql syntax to pull query', connection_string)\n",
    "\n",
    "# using function from env.py\n",
    "my_url = env.get_db_url(\n",
    "    env.user,\n",
    "    env.host,\n",
    "    env.password,\n",
    "    'employees')\n",
    "# method 2\n",
    "url = f'mysql+pymysql://{env.user}:{env.password}@{env.host}/employees'\n",
    "\n",
    "# write query and run query and my_url through pd.read_sql\n",
    "query = 'select * from employees limit 5'\n",
    "df = pd.read_sql(query, my_url)\n",
    "df"
   ]
  },
  {
   "cell_type": "markdown",
   "id": "48f89fe2-d4b6-4206-a309-887607fde1de",
   "metadata": {},
   "source": [
    "### 5. Once you have successfully run a query:\n",
    " - a. Intentionally make a typo in the database url. What kind of error message do you see?\n",
    "\n",
    " - b. Intentionally make an error in your SQL query. What does the error message look like?"
   ]
  },
  {
   "cell_type": "code",
   "execution_count": 29,
   "id": "820ae80f-0e80-4e34-9dda-c9de0bf00167",
   "metadata": {
    "tags": []
   },
   "outputs": [],
   "source": [
    "# a. ANSWER: Access denied\n",
    "#typo_url = my_url + '5'\n",
    "#df_t1 = pd.read_sql(query, typo_url)\n",
    "#df_t1"
   ]
  },
  {
   "cell_type": "code",
   "execution_count": 32,
   "id": "3903feb3-0c42-4c40-bc34-ea60a5fd7e31",
   "metadata": {
    "tags": []
   },
   "outputs": [],
   "source": [
    "# b. ANSWER: In one case I got an error message that there was an endeclared variable. \n",
    "# In another, there was no error message, it just changed the limit from 5 to 55\n",
    "#typo_query = query + 't'\n",
    "#df_t2 = pd.read_sql(typo_query, my_url)\n",
    "#df_t2"
   ]
  },
  {
   "cell_type": "markdown",
   "id": "2b9769db-ace5-4d6f-8d37-5b3b98114b01",
   "metadata": {},
   "source": [
    "### 6. Read the employees and titles tables into two separate DataFrames.\n",
    "\n"
   ]
  },
  {
   "cell_type": "code",
   "execution_count": 8,
   "id": "95266590-042a-4cf7-9129-8f86f8b40215",
   "metadata": {
    "tags": []
   },
   "outputs": [],
   "source": [
    "# for employees table:\n",
    "# Write query and create DataFrame\n",
    "query_1 = '''\n",
    "select *\n",
    "from\n",
    "employees\n",
    "'''\n",
    "employees_df = pd.read_sql(query_1, my_url)"
   ]
  },
  {
   "cell_type": "code",
   "execution_count": 9,
   "id": "3c15aa1f-a28c-4ddd-afdc-fb25823e20c1",
   "metadata": {
    "tags": []
   },
   "outputs": [],
   "source": [
    "# for titles table:\n",
    "# Write query and create DataFrame\n",
    "query_2 = '''\n",
    "select * \n",
    "from\n",
    "titles\n",
    "'''\n",
    "titles_df = pd.read_sql(query_2, my_url)"
   ]
  },
  {
   "cell_type": "markdown",
   "id": "990cacc1-f95e-449e-b926-64c3f7257279",
   "metadata": {},
   "source": [
    "### 7. How many rows and columns do you have in each DataFrame? Is that what you expected?\n",
    "\n"
   ]
  },
  {
   "cell_type": "code",
   "execution_count": 14,
   "id": "22dff958-1761-488c-975e-3d429f92c881",
   "metadata": {
    "tags": []
   },
   "outputs": [
    {
     "name": "stdout",
     "output_type": "stream",
     "text": [
      "(300024, 6)\n",
      "(443308, 4)\n"
     ]
    }
   ],
   "source": [
    "# employees (300024, 6)\n",
    "print(employees_df.shape)\n",
    "\n",
    "# titles (443308, 4)\n",
    "print(titles_df.shape)\n",
    "\n",
    "# It makes sense that there would be more rows in titles than in employees as employees\n",
    "# may have several different roles during their time at the company."
   ]
  },
  {
   "cell_type": "markdown",
   "id": "6c1c57a3-09de-4163-833d-0a66dff2bfd7",
   "metadata": {},
   "source": [
    "### 8. Display the summary statistics for each DataFrame.\n",
    "\n"
   ]
  },
  {
   "cell_type": "code",
   "execution_count": 49,
   "id": "58d5a2e1-79d1-4610-a1e8-c20a287201f2",
   "metadata": {
    "tags": []
   },
   "outputs": [
    {
     "name": "stdout",
     "output_type": "stream",
     "text": [
      "<class 'pandas.core.frame.DataFrame'>\n",
      "RangeIndex: 300024 entries, 0 to 300023\n",
      "Data columns (total 6 columns):\n",
      " #   Column      Non-Null Count   Dtype \n",
      "---  ------      --------------   ----- \n",
      " 0   emp_no      300024 non-null  int64 \n",
      " 1   birth_date  300024 non-null  object\n",
      " 2   first_name  300024 non-null  object\n",
      " 3   last_name   300024 non-null  object\n",
      " 4   gender      300024 non-null  object\n",
      " 5   hire_date   300024 non-null  object\n",
      "dtypes: int64(1), object(5)\n",
      "memory usage: 13.7+ MB\n",
      "None\n",
      "              emp_no\n",
      "count  300024.000000\n",
      "mean   253321.763392\n",
      "std    161828.235540\n",
      "min     10001.000000\n",
      "25%     85006.750000\n",
      "50%    249987.500000\n",
      "75%    424993.250000\n",
      "max    499999.000000\n"
     ]
    }
   ],
   "source": [
    "# employees_df\n",
    "print(employees_df.info())\n",
    "print(employees_df.describe())"
   ]
  },
  {
   "cell_type": "code",
   "execution_count": 51,
   "id": "14754f4b-3c1e-4843-b67d-e41e78e74afa",
   "metadata": {
    "tags": []
   },
   "outputs": [
    {
     "name": "stdout",
     "output_type": "stream",
     "text": [
      "<class 'pandas.core.frame.DataFrame'>\n",
      "RangeIndex: 443308 entries, 0 to 443307\n",
      "Data columns (total 4 columns):\n",
      " #   Column     Non-Null Count   Dtype \n",
      "---  ------     --------------   ----- \n",
      " 0   emp_no     443308 non-null  int64 \n",
      " 1   title      443308 non-null  object\n",
      " 2   from_date  443308 non-null  object\n",
      " 3   to_date    443308 non-null  object\n",
      "dtypes: int64(1), object(3)\n",
      "memory usage: 13.5+ MB\n",
      "None\n",
      "              emp_no\n",
      "count  443308.000000\n",
      "mean   253075.034430\n",
      "std    161853.292613\n",
      "min     10001.000000\n",
      "25%     84855.750000\n",
      "50%    249847.500000\n",
      "75%    424891.250000\n",
      "max    499999.000000\n"
     ]
    }
   ],
   "source": [
    "# titles_df\n",
    "print(titles_df.info())\n",
    "print(titles_df.describe())"
   ]
  },
  {
   "cell_type": "markdown",
   "id": "477cbc13-59ac-48e4-a297-81bd16039449",
   "metadata": {},
   "source": [
    "### 9. How many unique titles are in the titles DataFrame?\n",
    "\n"
   ]
  },
  {
   "cell_type": "code",
   "execution_count": 65,
   "id": "eb50c503-e5e3-4e2e-9386-0a2da33c4d60",
   "metadata": {
    "tags": []
   },
   "outputs": [
    {
     "data": {
      "text/plain": [
       "Index(['emp_no', 'title', 'from_date', 'to_date'], dtype='object')"
      ]
     },
     "execution_count": 65,
     "metadata": {},
     "output_type": "execute_result"
    }
   ],
   "source": [
    "titles_df.columns"
   ]
  },
  {
   "cell_type": "code",
   "execution_count": 68,
   "id": "2fb43f2b-e256-4539-9f87-8b8c6948bee8",
   "metadata": {
    "tags": []
   },
   "outputs": [
    {
     "data": {
      "text/plain": [
       "7"
      ]
     },
     "execution_count": 68,
     "metadata": {},
     "output_type": "execute_result"
    }
   ],
   "source": [
    "len(pd.unique(titles_df['title']))"
   ]
  },
  {
   "cell_type": "markdown",
   "id": "d1cb2014-b717-4e35-88a1-c2267a12c8bd",
   "metadata": {},
   "source": [
    "### 10. What is the oldest date in the to_date column?\n",
    "ANSWER:1985-03-01"
   ]
  },
  {
   "cell_type": "code",
   "execution_count": 90,
   "id": "d12aa000-00f2-4019-bb2c-0362ea0a6372",
   "metadata": {
    "tags": []
   },
   "outputs": [],
   "source": [
    "from datetime import date\n",
    "today = date.today()"
   ]
  },
  {
   "cell_type": "code",
   "execution_count": 17,
   "id": "f7a7475d-7bb3-4c8b-b2f2-3bdc8c539984",
   "metadata": {
    "tags": []
   },
   "outputs": [
    {
     "data": {
      "text/html": [
       "<div>\n",
       "<style scoped>\n",
       "    .dataframe tbody tr th:only-of-type {\n",
       "        vertical-align: middle;\n",
       "    }\n",
       "\n",
       "    .dataframe tbody tr th {\n",
       "        vertical-align: top;\n",
       "    }\n",
       "\n",
       "    .dataframe thead th {\n",
       "        text-align: right;\n",
       "    }\n",
       "</style>\n",
       "<table border=\"1\" class=\"dataframe\">\n",
       "  <thead>\n",
       "    <tr style=\"text-align: right;\">\n",
       "      <th></th>\n",
       "      <th>emp_no</th>\n",
       "      <th>title</th>\n",
       "      <th>from_date</th>\n",
       "      <th>to_date</th>\n",
       "    </tr>\n",
       "  </thead>\n",
       "  <tbody>\n",
       "    <tr>\n",
       "      <th>16064</th>\n",
       "      <td>20869</td>\n",
       "      <td>Engineer</td>\n",
       "      <td>1985-02-17</td>\n",
       "      <td>1985-03-01</td>\n",
       "    </tr>\n",
       "  </tbody>\n",
       "</table>\n",
       "</div>"
      ],
      "text/plain": [
       "       emp_no     title   from_date     to_date\n",
       "16064   20869  Engineer  1985-02-17  1985-03-01"
      ]
     },
     "execution_count": 17,
     "metadata": {},
     "output_type": "execute_result"
    }
   ],
   "source": [
    "# sort by to_date ascending\n",
    "titles_df.sort_values(\n",
    "    'to_date', ascending=True\n",
    ").head(1)"
   ]
  },
  {
   "cell_type": "markdown",
   "id": "fca04aa8-d9da-4f6c-a546-6a0e6f436139",
   "metadata": {},
   "source": [
    "### 11. What is the most recent date in the to_date column?\n",
    "ANSWER: 2002-08-01\n",
    "\n"
   ]
  },
  {
   "cell_type": "code",
   "execution_count": 91,
   "id": "9757451d-ff96-4a3e-9549-2b26bfc6466c",
   "metadata": {
    "tags": []
   },
   "outputs": [
    {
     "name": "stderr",
     "output_type": "stream",
     "text": [
      "/var/folders/kj/13f127m163l12181fcrgh1vm0000gn/T/ipykernel_56062/4262389933.py:5: UserWarning: Boolean Series key will be reindexed to match DataFrame index.\n",
      "  titles_df.sort_values(\n"
     ]
    },
    {
     "data": {
      "text/html": [
       "<div>\n",
       "<style scoped>\n",
       "    .dataframe tbody tr th:only-of-type {\n",
       "        vertical-align: middle;\n",
       "    }\n",
       "\n",
       "    .dataframe tbody tr th {\n",
       "        vertical-align: top;\n",
       "    }\n",
       "\n",
       "    .dataframe thead th {\n",
       "        text-align: right;\n",
       "    }\n",
       "</style>\n",
       "<table border=\"1\" class=\"dataframe\">\n",
       "  <thead>\n",
       "    <tr style=\"text-align: right;\">\n",
       "      <th></th>\n",
       "      <th>emp_no</th>\n",
       "      <th>title</th>\n",
       "      <th>from_date</th>\n",
       "      <th>to_date</th>\n",
       "    </tr>\n",
       "  </thead>\n",
       "  <tbody>\n",
       "    <tr>\n",
       "      <th>197364</th>\n",
       "      <td>233339</td>\n",
       "      <td>Engineer</td>\n",
       "      <td>1996-08-01</td>\n",
       "      <td>2002-08-01</td>\n",
       "    </tr>\n",
       "  </tbody>\n",
       "</table>\n",
       "</div>"
      ],
      "text/plain": [
       "        emp_no     title   from_date     to_date\n",
       "197364  233339  Engineer  1996-08-01  2002-08-01"
      ]
     },
     "execution_count": 91,
     "metadata": {},
     "output_type": "execute_result"
    }
   ],
   "source": [
    "## mask of to_dates less than today:\n",
    "# titles_df['to_date'] < today\n",
    "\n",
    "# sort by and apply mask\n",
    "titles_df.sort_values(\n",
    "    'to_date', ascending=False\n",
    ")[titles_df['to_date'] < today].head(1)"
   ]
  }
 ],
 "metadata": {
  "kernelspec": {
   "display_name": "Python 3 (ipykernel)",
   "language": "python",
   "name": "python3"
  },
  "language_info": {
   "codemirror_mode": {
    "name": "ipython",
    "version": 3
   },
   "file_extension": ".py",
   "mimetype": "text/x-python",
   "name": "python",
   "nbconvert_exporter": "python",
   "pygments_lexer": "ipython3",
   "version": "3.11.3"
  }
 },
 "nbformat": 4,
 "nbformat_minor": 5
}
