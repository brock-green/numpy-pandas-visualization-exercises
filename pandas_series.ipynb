{
 "cells": [
  {
   "cell_type": "markdown",
   "id": "03264993-f4db-4043-a3f1-f886d0630e0f",
   "metadata": {
    "tags": []
   },
   "source": [
    "## <u> Series Exercises\n",
    "### Part I\n",
    "##### Use pandas to create a Series named fruits from the following list:\n",
    "\n",
    "##### [\"kiwi\", \"mango\", \"strawberry\", \"pineapple\", \"gala apple\", \"honeycrisp apple\", \"tomato\", \"watermelon\", \"honeydew\", \"kiwi\", \"kiwi\", \"kiwi\", \"mango\", \"blueberry\", \"blackberry\", \"gooseberry\", \"papaya\"]\n",
    "\n",
    "##### Use Series attributes and methods to explore your fruits Series.\n"
   ]
  },
  {
   "cell_type": "code",
   "execution_count": 2,
   "id": "0ad91a8d-a8e2-43ac-bb71-1fb86de40814",
   "metadata": {
    "tags": []
   },
   "outputs": [
    {
     "data": {
      "text/plain": [
       "strawberry          1\n",
       "pineapple           1\n",
       "gala apple          1\n",
       "honeycrisp apple    1\n",
       "tomato              1\n",
       "watermelon          1\n",
       "honeydew            1\n",
       "blueberry           1\n",
       "blackberry          1\n",
       "gooseberry          1\n",
       "papaya              1\n",
       "dtype: int64"
      ]
     },
     "execution_count": 2,
     "metadata": {},
     "output_type": "execute_result"
    }
   ],
   "source": [
    "import pandas as pd\n",
    "import numpy as np\n",
    "from pydataset import data\n",
    "\n",
    "my_list = [\"kiwi\", \"mango\", \"strawberry\", \"pineapple\", \"gala apple\", \"honeycrisp apple\", \"tomato\", \"watermelon\", \"honeydew\", \"kiwi\", \"kiwi\", \"kiwi\", \"mango\", \"blueberry\", \"blackberry\", \"gooseberry\", \"papaya\"]\n",
    "fruits = pd.Series(my_list)\n",
    "# 1. Determine the number of elements in fruits. ANSWER: 17\n",
    "fruits.size\n",
    "\n",
    "#2. Output only the index from fruits. ANSWER: RangeIndex(start=0, stop=17, step=1)\n",
    "fruits.index\n",
    "\n",
    "#3. Output only the values from fruits.\n",
    "fruits.values\n",
    "\n",
    "#4. Confirm the data type of the values in fruits. ANSWER: dtype('O')\n",
    "fruits.dtype\n",
    "\n",
    "#5. Output only the first five values from fruits. Output the last three values. Output two random values from fruits.\n",
    "fruits.head()\n",
    "fruits.tail(3)\n",
    "fruits.sample(2)\n",
    "\n",
    "#6. Run the .describe() on fruits to see what information it returns when called on a Series with string values. \n",
    "# ANSWER: It returns the count of elements, count of unique values, mode value, frequency of mode, and data type.\n",
    "fruits.describe()\n",
    "\n",
    "#7. Run the code necessary to produce only the unique string values from fruits.\n",
    "fruits.unique()\n",
    "\n",
    "#8. Determine how many times each unique string value occurs in fruits.\n",
    "fruits.value_counts()\n",
    "\n",
    "#9. Determine the string value that occurs most frequently in fruits. ANSWER: kiwi\n",
    "fruits.value_counts().head(1)\n",
    "\n",
    "#10. Determine the string value that occurs least frequently in fruits. ANSWER: All but kiwi and mango are tied for least frequent.\n",
    "fruits.value_counts().nsmallest(n=1, keep='all')\n",
    "\n"
   ]
  },
  {
   "cell_type": "markdown",
   "id": "4781cd7f-cb37-4378-ab28-4dde0fbe535d",
   "metadata": {},
   "source": [
    "### Part 2\n",
    "Explore more attributes and methods while you continue to work with the fruits Series."
   ]
  },
  {
   "cell_type": "code",
   "execution_count": 52,
   "id": "d45c47e2-f103-4450-80c1-1681b692bd91",
   "metadata": {
    "tags": []
   },
   "outputs": [
    {
     "data": {
      "text/plain": [
       "5    honeycrisp apple\n",
       "dtype: object"
      ]
     },
     "execution_count": 52,
     "metadata": {},
     "output_type": "execute_result"
    }
   ],
   "source": [
    "# 1. Capitalize all the string values in fruits.\n",
    "fruits.str.upper()\n",
    "\n",
    "# 2. Count the letter \"a\" in all the string values (use string vectorization).\n",
    "fruits.str.count('a').values\n",
    "\n",
    "# 3. Output the number of vowels in each and every string value.\n",
    "fruits.str.count('[aeiouy]')\n",
    "\n",
    "# 4. Write the code to get the longest string value from fruits.\n",
    "# method. 1\n",
    "max(fruits, key=len)\n",
    "# method 2\n",
    "lengths = fruits.str.len()\n",
    "argmax = np.where(lengths == lengths.max())[0]\n",
    "fruits.iloc[argmax]\n",
    "\n",
    "# 5. Write the code to get the string values with 5 or more letters in the name.\n",
    "# method 1\n",
    "fruits[fruits.str.len() >=5]\n",
    "# method 2\n",
    "argmax2 = np.where(lengths >= 5)\n",
    "fruits.iloc[argmax2]\n",
    "\n",
    "# 6. Find the fruit(s) containing the letter \"o\" two or more times.\n",
    "# method 1\n",
    "fruits[fruits.str.count('o') >=2]\n",
    "# method 2\n",
    "argmax3 = np.where(fruits.str.count('o') >= 2)\n",
    "fruits.iloc[argmax3]\n",
    "\n",
    "# 7. Write the code to get only the string values containing the substring \"berry\".\n",
    "argmax4 = np.where(fruits.str.count('berry') >= 1)\n",
    "fruits.iloc[argmax4]\n",
    "\n",
    "# 8. Write the code to get only the string values containing the substring \"apple\".\n",
    "# method 1\n",
    "fruits[fruits.str.contains('apple')]\n",
    "# method 2\n",
    "argmax5 = np.where(fruits.str.count('apple') >= 1)\n",
    "fruits.iloc[argmax5]\n",
    "\n",
    "# 9. Which string value contains the most vowels\n",
    "fruits[fruits.str.count(r'[aeiou]').nlargest(n=1, keep='all')]"
   ]
  },
  {
   "cell_type": "markdown",
   "id": "3e3f8930-2c98-4026-83e8-b079b4911a58",
   "metadata": {},
   "source": [
    "### Part 3\n",
    "Use pandas to create a Series named letters from the following string. The easiest way to make this string into a Pandas series is to use list to convert each individual letter into a single string on a basic Python list.\n"
   ]
  },
  {
   "cell_type": "code",
   "execution_count": 65,
   "id": "d80d5139-8723-45f4-864c-1089dc60d6af",
   "metadata": {
    "tags": []
   },
   "outputs": [
    {
     "data": {
      "text/plain": [
       "<Axes: >"
      ]
     },
     "execution_count": 65,
     "metadata": {},
     "output_type": "execute_result"
    },
    {
     "data": {
      "image/png": "[encoded data removed]",
      "text/plain": [
       "<Figure size 640x480 with 1 Axes>"
      ]
     },
     "metadata": {},
     "output_type": "display_data"
    }
   ],
   "source": [
    "letters = pd.Series(list('hnvidduckkqxwymbimkccexbkmqygkxoyndmcxnwqarhyffsjpsrabtjzsypmzadfavyrnndndvswreauxovncxtwzpwejilzjrmmbbgbyxvjtewqthafnbkqplarokkyydtubbmnexoypulzwfhqvckdpqtpoppzqrmcvhhpwgjwupgzhiofohawytlsiyecuproguy'))\n",
    "\n",
    "# 1. Which letter occurs the most frequently in the letters Series? ANSWER: y\n",
    "letters.describe()\n",
    "\n",
    "# 2. Which letter occurs the Least frequently? ANSWER: 'l' occurs the most frequently\n",
    "# method 1\n",
    "letters.value_counts().nsmallest(n=1, keep='all')\n",
    "# method 2\n",
    "letters.value_counts().tail(1)\n",
    "\n",
    "# 3. How many vowels are in the Series? ANSWER: 47\n",
    "#method 1\n",
    "def is_vowel(some_word):\n",
    "    return some_word in ['a', 'e', 'i', 'o', 'u']\n",
    "letters.str.lower().apply(is_vowel).sum()\n",
    "\n",
    "# method 2\n",
    "vowels = list('aeiou')\n",
    "letters.isin(vowels).value_counts()\n",
    "\n",
    "# 4. How many consonants are in the Series? ANSWER: 153\n",
    "letters.isin(vowels).value_counts()\n",
    "\n",
    "# 5. Create a Series that has all of the same letters but uppercased.\n",
    "LETTERS = letters.str.upper()\n",
    "\n",
    "# 6. Create a bar plot of the frequencies of the 6 most commonly occuring letters.\n",
    "top_six = letters.value_counts().head(6)\n",
    "\n",
    "top_six.plot.bar()\n"
   ]
  },
  {
   "cell_type": "markdown",
   "id": "abe84ea5-7f46-4229-a94b-cde2d3e0d2fd",
   "metadata": {},
   "source": [
    "Use pandas to create a Series named numbers from the following list:\n",
    "\n"
   ]
  },
  {
   "cell_type": "code",
   "execution_count": 70,
   "id": "4db2e6a4-33d1-40c9-aca9-82ac27e84007",
   "metadata": {
    "tags": []
   },
   "outputs": [
    {
     "name": "stderr",
     "output_type": "stream",
     "text": [
      "/var/folders/kj/13f127m163l12181fcrgh1vm0000gn/T/ipykernel_48198/2131389556.py:14: FutureWarning: The default value of regex will change from True to False in a future version. In addition, single character regular expressions will *not* be treated as literal strings when regex=True.\n",
      "  numbers = numbers.str.replace('$', '')\n"
     ]
    },
    {
     "data": {
      "text/plain": [
       "[Text(0.5, 0, 'Frequency'), Text(0, 0.5, '$ Amount Bin')]"
      ]
     },
     "execution_count": 70,
     "metadata": {},
     "output_type": "execute_result"
    },
    {
     "data": {
      "image/png": "[encoded data removed]",
      "text/plain": [
       "<Figure size 640x480 with 1 Axes>"
      ]
     },
     "metadata": {},
     "output_type": "display_data"
    }
   ],
   "source": [
    "numbers = pd.Series(['$796,459.41', '$278.60', '$482,571.67', '$4,503,915.98', '$2,121,418.3', '$1,260,813.3', '$87,231.01', '$1,509,175.45', '$4,138,548.00', '$2,848,913.80', '$594,715.39', '$4,789,988.17', '$4,513,644.5', '$3,191,059.97', '$1,758,712.24', '$4,338,283.54', '$4,738,303.38', '$2,791,759.67', '$769,681.94', '$452,650.23'])\n",
    "numbers\n",
    "\n",
    "# 1. What is the data type of the numbers Series? ANSWER: dtype('O')\n",
    "numbers.dtype\n",
    "\n",
    "# 2. How many elements are in the number Series? ANSWER: 20\n",
    "numbers.size\n",
    "\n",
    "# 3. Perform the necessary manipulations by accessing Series attributes and methods to convert the numbers Series to a numeric data type.\n",
    "# method 1\n",
    "numericnums = numbers.replace('[\\$,]', '', regex=True).astype(float)\n",
    "# method 2\n",
    "numbers = numbers.str.replace('$', '')\n",
    "numbers = numbers.str.replace(',','')\n",
    "numbers = numbers.astype('float')\n",
    "\n",
    "# 4. Run the code to discover the maximum value from the Series. ANSWER: 4789988.17\n",
    "numericnums.max()\n",
    "\n",
    "# 5. Run the code to discover the minimum value from the Series. ANSWER: 278.6\n",
    "numericnums.min()\n",
    "\n",
    "# 6. What is the range of the values in the Series? ANSWER: 4789709.57\n",
    "numericnums.max() - numericnums.min()\n",
    "\n",
    "# 7. Bin the data into 4 equally sized intervals or bins and output how many values fall into each bin.\n",
    "numbers_bins = pd.cut(numericnums, 4)\n",
    "numbers_bins\n",
    "\n",
    "# 8. Plot the binned data in a meaningful way. Be sure to include a title and axis labels.\n",
    "numbers_bins.value_counts().plot.barh(title='Frequency Distribution').set(xlabel='Frequency', ylabel='$ Amount Bin')"
   ]
  },
  {
   "cell_type": "code",
   "execution_count": 69,
   "id": "4d7ec36d-c263-4064-be7a-e35047577ac8",
   "metadata": {
    "tags": []
   },
   "outputs": [
    {
     "data": {
      "text/plain": [
       "0      796459.41\n",
       "1         278.60\n",
       "2      482571.67\n",
       "3     4503915.98\n",
       "4     2121418.30\n",
       "5     1260813.30\n",
       "6       87231.01\n",
       "7     1509175.45\n",
       "8     4138548.00\n",
       "9     2848913.80\n",
       "10     594715.39\n",
       "11    4789988.17\n",
       "12    4513644.50\n",
       "13    3191059.97\n",
       "14    1758712.24\n",
       "15    4338283.54\n",
       "16    4738303.38\n",
       "17    2791759.67\n",
       "18     769681.94\n",
       "19     452650.23\n",
       "dtype: float64"
      ]
     },
     "execution_count": 69,
     "metadata": {},
     "output_type": "execute_result"
    }
   ],
   "source": [
    "numbers"
   ]
  },
  {
   "cell_type": "code",
   "execution_count": 112,
   "id": "db474276-b7d2-4b54-bbc7-7311bdcb6b88",
   "metadata": {
    "tags": []
   },
   "outputs": [
    {
     "data": {
      "text/plain": [
       "[Text(0.5, 0, 'Letter'), Text(0, 0.5, 'Number of Students')]"
      ]
     },
     "execution_count": 112,
     "metadata": {},
     "output_type": "execute_result"
    },
    {
     "data": {
      "image/png": "[encoded data removed]",
      "text/plain": [
       "<Figure size 640x480 with 1 Axes>"
      ]
     },
     "metadata": {},
     "output_type": "display_data"
    }
   ],
   "source": [
    "exam_scores = pd.Series([60, 86, 75, 62, 93, 71, 60, 83, 95, 78, 65, 72, 69, 81, 96, 80, 85, 92, 82, 78])\n",
    "exam_scores\n",
    "\n",
    "# 1. How many elements are in the exam_scores Series? ANSWER: 20\n",
    "exam_scores.size\n",
    "\n",
    "# 2. Run the code to discover the minimum, the maximum, the mean, and the median scores for the exam_scores Series.\n",
    "# ANSWER: 60, 96, 78.15, 79.0\n",
    "# plot 1\n",
    "exam_scores.min(), exam_scores.max(), exam_scores.mean(), exam_scores.median()\n",
    "\n",
    "# 3. Plot the Series in a meaningful way and make sure your chart has a title and axis labels.\n",
    "#exam_scores_plot = exam_scores.plot.box(title= 'Grade Distribution').set(ylabel = 'Grades')\n",
    "\n",
    "# 4. Write the code necessary to implement a curve for your exam_grades Series and save this as curved_grades. \n",
    "# Add the necessary points to the highest grade to make it 100, \n",
    "# and add the same number of points to every other score in the Series as well.\n",
    "curved_grades = exam_scores + 4\n",
    "curved_grades\n",
    "\n",
    "# 5. Use a method to convert each of the numeric values in the curved_grades Series into a categorical value of letter grades. \n",
    "# For example, 86 should be a 'B' and 95 should be an 'A'. \n",
    "# Save this as a Series named letter_grades.\n",
    "bin_edges = [0, 59, 69, 79, 89, 100]\n",
    "bin_labels = ['F', 'D', 'C', 'B', 'A']\n",
    "curved_grades = pd.cut(curved_grades, bins=bin_edges, labels=bin_labels,right=True)\n",
    "\n",
    "# 6. Plot your new categorical letter_grades Series in a meaninful way and include a title and axis labels.\n",
    "curved_grades = curved_grades.value_counts()\n",
    "curved_grades.plot.bar(title='Letter Grades on Curve').set(xlabel='Letter', ylabel='Number of Students')\n"
   ]
  }
 ],
 "metadata": {
  "kernelspec": {
   "display_name": "Python 3 (ipykernel)",
   "language": "python",
   "name": "python3"
  },
  "language_info": {
   "codemirror_mode": {
    "name": "ipython",
    "version": 3
   },
   "file_extension": ".py",
   "mimetype": "text/x-python",
   "name": "python",
   "nbconvert_exporter": "python",
   "pygments_lexer": "ipython3",
   "version": "3.11.3"
  }
 },
 "nbformat": 4,
 "nbformat_minor": 5
}
